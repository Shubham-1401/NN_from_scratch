{
 "cells": [
  {
   "cell_type": "code",
   "execution_count": 2,
   "id": "eac684cb",
   "metadata": {},
   "outputs": [],
   "source": [
    "import numpy as np\n",
    "import pandas as pd\n",
    "from matplotlib import pyplot as plt"
   ]
  },
  {
   "cell_type": "markdown",
   "id": "1745c709",
   "metadata": {},
   "source": [
    "Importing dataset for training and testing"
   ]
  },
  {
   "cell_type": "code",
   "execution_count": 36,
   "id": "529d3f02",
   "metadata": {},
   "outputs": [],
   "source": [
    "train = pd.read_csv(r\"E:\\Study\\ML\\NN_from_scratch\\train.csv\")\n",
    "test = pd.read_csv(r\"E:\\Study\\ML\\NN_from_scratch\\test.csv\")"
   ]
  },
  {
   "cell_type": "code",
   "execution_count": 15,
   "id": "de3b29de",
   "metadata": {},
   "outputs": [
    {
     "name": "stdout",
     "output_type": "stream",
     "text": [
      "(784, 28000)\n",
      "(784, 42000)\n"
     ]
    }
   ],
   "source": [
    "X_train = train.iloc[:,1:]\n",
    "Y_train = train.iloc[:,0]\n",
    "X_train = np.array(X_train)\n",
    "Y_train = np.array(Y_train)\n",
    "#Feature scaling\n",
    "X_train = X_train/255\n",
    "X_train = X_train.T\n",
    "\n",
    "X_test = test.iloc[:,0:]\n",
    "X_test = np.array(X_test)\n",
    "#Feature scaling\n",
    "X_test = X_test/255\n",
    "X_test = X_test.T\n",
    "print(X_test.shape)\n",
    "print(X_train.shape)\n",
    "m = X_train.shape[1]"
   ]
  },
  {
   "cell_type": "code",
   "execution_count": 16,
   "id": "066d85e7",
   "metadata": {},
   "outputs": [
    {
     "data": {
      "text/plain": [
       "array([1, 0, 1, ..., 7, 6, 9], dtype=int64)"
      ]
     },
     "execution_count": 16,
     "metadata": {},
     "output_type": "execute_result"
    }
   ],
   "source": [
    "Y_train"
   ]
  },
  {
   "cell_type": "markdown",
   "id": "1202f8d1",
   "metadata": {},
   "source": [
    "We will make a neural network with 1 hidden layer of 20 neurons. Output layer will have 10 nodes, each representing a number from 0-9. 784 is the number of input features (pixel values).\n",
    "\n",
    "**Forward Propagation**\n",
    "\n",
    "Z[1]=W[1]X+b[1]\n",
    "\n",
    "A[1]=gReLU(Z[1]))\n",
    "\n",
    "Z[2]=W[2]A[1]+b[2]\n",
    "\n",
    "A[2]=gsoftmax(Z[2])\n",
    "\n",
    "**Backward Propagation**\n",
    "\n",
    "dZ[2]=A[2]−Y\n",
    " \n",
    "dW[2]=1/mdZ[2]A[1]T\n",
    " \n",
    "dB[2]=1/mΣdZ[2]\n",
    " \n",
    "dZ[1]=W[2]TdZ[2].∗g[1]′(z[1])\n",
    " \n",
    "dW[1]=1/mdZ[1]A[0]T\n",
    " \n",
    "dB[1]=1/mΣdZ[1]\n",
    "\n",
    "**Shapes of matrices**\n",
    "\n",
    "A[0] = X : 784 x mt\n",
    "\n",
    "A[1] ~ Z[1] : 20 x mt\n",
    "\n",
    "W1 : 20 x 784\n",
    "\n",
    "B1 : 20 x 1\n",
    "\n",
    "A[2] ~ Z[2] : 10 x mt\n",
    "\n",
    "W2 : 10 x 20\n",
    "\n",
    "B2 : 10 x 1\n",
    "\n",
    "dZ2 : 10 x mt\n",
    "\n",
    "dW2 : 10 x 20\n",
    "\n",
    "dB2 : 10 x 1\n",
    "\n",
    "dZ1 : 20 x mt\n",
    "\n",
    "dW1 : 20 x 784\n",
    "\n",
    "dB1 : 20 x 1"
   ]
  },
  {
   "cell_type": "code",
   "execution_count": 20,
   "id": "cbb57ba9",
   "metadata": {},
   "outputs": [],
   "source": [
    "#Initialise parameters\n",
    "\n",
    "def init_params():\n",
    "    W1 = np.random.rand(20, 784) - 0.5\n",
    "    b1 = np.random.rand(20, 1) - 0.5\n",
    "    W2 = np.random.rand(10, 20) - 0.5\n",
    "    b2 = np.random.rand(10, 1) - 0.5\n",
    "    return W1, b1, W2, b2\n",
    "\n",
    "#Defining ReLU and Softmax\n",
    "#We will use softmax activation function in output layer as we have a multiclass classification problem.\n",
    "\n",
    "def ReLU(Z):\n",
    "    return np.maximum(Z,0)\n",
    "\n",
    "def softmax(Z):\n",
    "    ans = np.exp(Z) / sum(np.exp(Z))\n",
    "    return ans\n",
    "\n",
    "#Defining derivative of ReLU as it will be used in backward propagation\n",
    "def deriv_ReLU(Z):\n",
    "    return(Z>0)\n",
    "\n",
    "#One hot encoding the output Y\n",
    "def one_hot(Y):\n",
    "    one_hot_Y = np.zeros((Y.size, Y.max() + 1))\n",
    "    one_hot_Y[np.arange(Y.size), Y] = 1\n",
    "    one_hot_Y = one_hot_Y.T\n",
    "    return one_hot_Y\n",
    "\n",
    "#forward propagation\n",
    "def for_prop(W1,B1,W2,B2,X):\n",
    "    Z1 = W1.dot(X) + B1\n",
    "    A1 = ReLU(Z1)\n",
    "    Z2 = W2.dot(A1) + B2\n",
    "    A2 = softmax(Z2)\n",
    "    return Z1, A1, Z2, A2\n",
    "\n",
    "#backward propagation\n",
    "def back_prop(Z1, A1, Z2, A2, W1, W2, X, Y):\n",
    "    one_hot_Y = one_hot(Y)\n",
    "    dZ2 = A2 - one_hot_Y\n",
    "    dW2 = 1 / m * dZ2.dot(A1.T)\n",
    "    dB2 = 1 / m * np.sum(dZ2)\n",
    "    dZ1 = W2.T.dot(dZ2) * deriv_ReLU(Z1)\n",
    "    dW1 = 1 / m * dZ1.dot(X.T)\n",
    "    dB1 = 1 / m * np.sum(dZ1)\n",
    "    return dW1, dB1, dW2, dB2\n",
    "\n",
    "#Updating parameters for gradient descent\n",
    "def update_params(W1,B1,W2,B2,dW1,dB1,dW2,dB2,alpha):\n",
    "    W1 -= alpha * dW1\n",
    "    B1 -= alpha * dB1\n",
    "    W2 -= alpha * dW2\n",
    "    B2 -= alpha * dB2\n",
    "    return W1, B1, W2, B2\n",
    "\n",
    "#Taking prediction from output layer\n",
    "def predictions(A2):\n",
    "    return np.argmax(A2,0)\n",
    "\n",
    "#Measuring accuracy\n",
    "def accuracy(predictions,Y):\n",
    "    return np.sum(predictions == Y) / Y.size\n",
    "\n",
    "#Implementing Gradient Descent using above functions\n",
    "def grad_des(X,Y,alpha,itr):\n",
    "    W1,B1,W2,B2 = init_params()\n",
    "    for i in range(itr):\n",
    "        Z1, A1, Z2, A2 = for_prop(W1,B1,W2,B2,X)\n",
    "        dW1, dB1, dW2, dB2 = back_prop(Z1,A1,Z2,A2,W1,W2,X,Y)\n",
    "        W1, B1, W2, B2 = update_params(W1,B1,W2,B2,dW1,dB1,dW2,dB2,alpha)\n",
    "        if i % 20 == 0:\n",
    "            print(\"Iteration: \", i)\n",
    "            preds = predictions(A2)\n",
    "            print(accuracy(preds, Y))\n",
    "    return W1, B1, W2, B2"
   ]
  },
  {
   "cell_type": "code",
   "execution_count": 21,
   "id": "ab5fc00a",
   "metadata": {},
   "outputs": [],
   "source": [
    "#Making predictions on new data\n",
    "def make_predictions(W1, B1, W2, B2, X):\n",
    "    Z1, A1, Z2, A2 = for_prop(W1, B1, W2, B2, X)\n",
    "    preds = predictions(A2)\n",
    "    return preds\n",
    "\n",
    "#Function to test the network on a particular image of training set\n",
    "def test_prediction(X, Y, index, W1, B1, W2, B2):\n",
    "    current_image = X[:, index, None]\n",
    "    prediction = make_predictions(W1, B1, W2, B2, X[:, index, None])\n",
    "    label = Y[index]\n",
    "    print(\"Prediction: \", prediction)\n",
    "    print(\"Label: \", label)\n",
    "    \n",
    "    current_image = current_image.reshape((28, 28)) * 255\n",
    "    plt.gray()\n",
    "    plt.imshow(current_image, interpolation='nearest')\n",
    "    plt.show()"
   ]
  },
  {
   "cell_type": "code",
   "execution_count": 22,
   "id": "296300f8",
   "metadata": {},
   "outputs": [
    {
     "name": "stdout",
     "output_type": "stream",
     "text": [
      "Iteration:  0\n",
      "0.05911904761904762\n",
      "Iteration:  20\n",
      "0.3148095238095238\n",
      "Iteration:  40\n",
      "0.4912142857142857\n",
      "Iteration:  60\n",
      "0.5881190476190477\n",
      "Iteration:  80\n",
      "0.6531190476190476\n",
      "Iteration:  100\n",
      "0.6956666666666667\n",
      "Iteration:  120\n",
      "0.7258809523809524\n",
      "Iteration:  140\n",
      "0.7497142857142857\n",
      "Iteration:  160\n",
      "0.7674285714285715\n",
      "Iteration:  180\n",
      "0.7820714285714285\n",
      "Iteration:  200\n",
      "0.7939285714285714\n",
      "Iteration:  220\n",
      "0.8049285714285714\n",
      "Iteration:  240\n",
      "0.8145952380952381\n",
      "Iteration:  260\n",
      "0.8219761904761905\n",
      "Iteration:  280\n",
      "0.8283809523809523\n",
      "Iteration:  300\n",
      "0.8341428571428572\n",
      "Iteration:  320\n",
      "0.8389047619047619\n",
      "Iteration:  340\n",
      "0.8446666666666667\n",
      "Iteration:  360\n",
      "0.8483571428571428\n",
      "Iteration:  380\n",
      "0.8529523809523809\n",
      "Iteration:  400\n",
      "0.8564761904761905\n",
      "Iteration:  420\n",
      "0.8593095238095239\n",
      "Iteration:  440\n",
      "0.8621190476190477\n",
      "Iteration:  460\n",
      "0.8645952380952381\n",
      "Iteration:  480\n",
      "0.8670238095238095\n"
     ]
    }
   ],
   "source": [
    "W1, B1, W2, B2 = grad_des(X_train, Y_train, 0.10, 500)"
   ]
  },
  {
   "cell_type": "markdown",
   "id": "d0b9cdca",
   "metadata": {},
   "source": [
    "An observation is that the way we initialize the parameters W1,B1,W2,B2 affects the performance drastically.\n",
    "When initialized with standard normal distribution, accuracy was about 54% whereas when initialised by uniform density from -0.5 to 0.5, the accuracy was 87%.\n",
    "The reason behind this could be that for standard normal distribution very small values (even 0) are very likely to be selected. This may lead to symmetry between nodes of a layer consequently losing efficiency."
   ]
  },
  {
   "cell_type": "code",
   "execution_count": 23,
   "id": "ccfbb6f5",
   "metadata": {},
   "outputs": [
    {
     "name": "stdout",
     "output_type": "stream",
     "text": [
      "Prediction:  [1]\n",
      "Label:  1\n"
     ]
    },
    {
     "data": {
      "image/png": "[encoded data removed]",
      "text/plain": [
       "<Figure size 432x288 with 1 Axes>"
      ]
     },
     "metadata": {
      "needs_background": "light"
     },
     "output_type": "display_data"
    }
   ],
   "source": [
    "test_prediction(X_train,Y_train,0,W1,B1,W2,B2)"
   ]
  },
  {
   "cell_type": "code",
   "execution_count": 33,
   "id": "452ec17a",
   "metadata": {},
   "outputs": [
    {
     "name": "stdout",
     "output_type": "stream",
     "text": [
      "Prediction:  [8]\n",
      "Label:  8\n"
     ]
    },
    {
     "data": {
      "image/png": "[encoded data removed]",
      "text/plain": [
       "<Figure size 432x288 with 1 Axes>"
      ]
     },
     "metadata": {
      "needs_background": "light"
     },
     "output_type": "display_data"
    }
   ],
   "source": [
    "test_prediction(X_train,Y_train,6969,W1,B1,W2,B2)"
   ]
  },
  {
   "cell_type": "code",
   "execution_count": 251,
   "id": "1bd3bed1",
   "metadata": {},
   "outputs": [],
   "source": [
    "val_predictions = make_predictions(W1,B1,W2,B2,X_test)"
   ]
  },
  {
   "cell_type": "code",
   "execution_count": 252,
   "id": "207224bf",
   "metadata": {},
   "outputs": [
    {
     "name": "stdout",
     "output_type": "stream",
     "text": [
      "[2 0 8 ... 3 9 2]\n"
     ]
    }
   ],
   "source": [
    "print(val_predictions)"
   ]
  },
  {
   "cell_type": "markdown",
   "id": "9325f300",
   "metadata": {},
   "source": [
    "Let's now create an output csv file for submission on kaggle"
   ]
  },
  {
   "cell_type": "code",
   "execution_count": 254,
   "id": "35eb2d5e",
   "metadata": {},
   "outputs": [],
   "source": [
    "ImageID = []\n",
    "for i in range(1,X_test.shape[1]+1):\n",
    "    ImageID.append(i)\n",
    "output = pd.DataFrame({'ImageID' : ImageID, 'Label' : val_predictions})\n",
    "output.to_csv('submission.csv', index=False)"
   ]
  },
  {
   "cell_type": "markdown",
   "id": "0517f84c",
   "metadata": {},
   "source": [
    "After making submission in the kaggle competition, the final accuracy for test set comes out to be **86.19%**.\n",
    "For a neural network implemented from scratch with only 1 hidden layer, I think it performed very well."
   ]
  },
  {
   "cell_type": "markdown",
   "id": "6110917b",
   "metadata": {},
   "source": [
    "The final output can be improved by tuning parameters such as alpha and number of iterations for gradient descent.\n",
    "Increasing number of neurons and number of hidden layers will definitely improve the performance."
   ]
  },
  {
   "cell_type": "code",
   "execution_count": null,
   "id": "9cf37bb1",
   "metadata": {},
   "outputs": [],
   "source": []
  }
 ],
 "metadata": {
  "kernelspec": {
   "display_name": "Python 3 (ipykernel)",
   "language": "python",
   "name": "python3"
  },
  "language_info": {
   "codemirror_mode": {
    "name": "ipython",
    "version": 3
   },
   "file_extension": ".py",
   "mimetype": "text/x-python",
   "name": "python",
   "nbconvert_exporter": "python",
   "pygments_lexer": "ipython3",
   "version": "3.9.12"
  }
 },
 "nbformat": 4,
 "nbformat_minor": 5
}
